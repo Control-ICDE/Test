{
 "cells": [
  {
   "cell_type": "code",
   "execution_count": null,
   "id": "cdd76055-86d8-4d0a-a706-6708526cfb07",
   "metadata": {},
   "outputs": [],
   "source": [
    "import pandas as pd\n",
    "\n",
    "linkGit=       #paste link here!\n",
    "\n",
    "dataRaee=pd.read_csv(linkGit)"
   ]
  }
 ],
 "metadata": {
  "kernelspec": {
   "display_name": "",
   "name": ""
  },
  "language_info": {
   "name": ""
  }
 },
 "nbformat": 4,
 "nbformat_minor": 5
}
